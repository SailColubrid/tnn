{
 "cells": [
  {
   "cell_type": "code",
   "execution_count": 1,
   "metadata": {},
   "outputs": [],
   "source": [
    "import math\n",
    "import numpy as np\n",
    "import matplotlib.pyplot as plt\n",
    "from sklearn.datasets import fetch_mldata\n",
    "from Conv_tnn import DoG\n",
    "mnist = fetch_mldata('MNIST original')\n",
    "N, _ = mnist.data.shape\n",
    "\n",
    "# Reshape the data to be square\n",
    "mnist.square_data = mnist.data.reshape(N,28,28)"
   ]
  },
  {
   "cell_type": "code",
   "execution_count": 2,
   "metadata": {},
   "outputs": [],
   "source": [
    "layer = DoG(layer_name='DoG', threshold=None)"
   ]
  },
  {
   "cell_type": "code",
   "execution_count": 3,
   "metadata": {},
   "outputs": [],
   "source": [
    "result = layer(mnist.square_data[0])"
   ]
  },
  {
   "cell_type": "code",
   "execution_count": 4,
   "metadata": {},
   "outputs": [
    {
     "data": {
      "text/plain": [
       "7.0"
      ]
     },
     "execution_count": 4,
     "metadata": {},
     "output_type": "execute_result"
    }
   ],
   "source": [
    "result.shape\n",
    "result.max()"
   ]
  },
  {
   "cell_type": "code",
   "execution_count": 6,
   "metadata": {},
   "outputs": [
    {
     "data": {
      "image/png": "[encoded data removed]",
      "text/plain": [
       "<Figure size 432x288 with 2 Axes>"
      ]
     },
     "metadata": {
      "needs_background": "light"
     },
     "output_type": "display_data"
    }
   ],
   "source": [
    "plt.imshow(result[:,:,1])\n",
    "plt.colorbar()\n",
    "plt.show()"
   ]
  },
  {
   "cell_type": "code",
   "execution_count": 61,
   "metadata": {},
   "outputs": [],
   "source": [
    "A = np.random.randint(low=1, high=7, size=(4,3,3))\n",
    "for i in range(A.shape[1]):\n",
    "    for j in range(A.shape[2]):\n",
    "        if (i%2 != j%2):\n",
    "            A[:, i, j] = 0"
   ]
  },
  {
   "cell_type": "code",
   "execution_count": 62,
   "metadata": {},
   "outputs": [
    {
     "data": {
      "text/plain": [
       "array([[[4, 0, 4],\n",
       "        [0, 5, 0],\n",
       "        [2, 0, 4]],\n",
       "\n",
       "       [[3, 0, 3],\n",
       "        [0, 1, 0],\n",
       "        [6, 0, 6]],\n",
       "\n",
       "       [[4, 0, 1],\n",
       "        [0, 5, 0],\n",
       "        [5, 0, 6]],\n",
       "\n",
       "       [[2, 0, 1],\n",
       "        [0, 1, 0],\n",
       "        [3, 0, 6]]])"
      ]
     },
     "execution_count": 62,
     "metadata": {},
     "output_type": "execute_result"
    }
   ],
   "source": [
    "#A[:, int(A.shape[1]/2), int(A.shape[1]/2)] = 0\n",
    "A"
   ]
  },
  {
   "cell_type": "code",
   "execution_count": 74,
   "metadata": {},
   "outputs": [
    {
     "data": {
      "text/plain": [
       "(6,)"
      ]
     },
     "execution_count": 74,
     "metadata": {},
     "output_type": "execute_result"
    }
   ],
   "source": [
    "a = np.zeros((3,3,6))\n",
    "a[0,0,:].shape"
   ]
  },
  {
   "cell_type": "code",
   "execution_count": 65,
   "metadata": {},
   "outputs": [
    {
     "data": {
      "text/plain": [
       "array([0.33333333, 0.33333333, 0.        , 0.33333333, 0.        ,\n",
       "       0.        ])"
      ]
     },
     "execution_count": 65,
     "metadata": {},
     "output_type": "execute_result"
    }
   ],
   "source": [
    "a[[1,3,0]] = 1\n",
    "a/a.sum()"
   ]
  },
  {
   "cell_type": "code",
   "execution_count": 73,
   "metadata": {},
   "outputs": [
    {
     "data": {
      "text/plain": [
       "0"
      ]
     },
     "execution_count": 73,
     "metadata": {},
     "output_type": "execute_result"
    }
   ],
   "source": [
    "np.random.choice(6, 1, p=a/a.sum())[0] "
   ]
  },
  {
   "cell_type": "code",
   "execution_count": 383,
   "metadata": {},
   "outputs": [],
   "source": [
    "import math\n",
    "import numpy as np\n",
    "from scipy import stats\n",
    "import matplotlib.pyplot as plt\n",
    "\n",
    "from sklearn.datasets import fetch_mldata\n",
    "MAX_TIME = 8\n",
    "\n",
    "class Layer():\n",
    "    def __init__(self, layer_name, threshold):\n",
    "        self.layer_name = layer_name\n",
    "        self.threshold = threshold\n",
    "\n",
    "    def __call__(self, x):\n",
    "        return self.forward(x)\n",
    "\n",
    "    def reset(self):\n",
    "        # Reset the network, clearing out any accumulator variables, etc\n",
    "        pass\n",
    "\n",
    "    def forward(self, x):\n",
    "        \"\"\"\n",
    "        This function will control the different processing steps for a\n",
    "        single image\n",
    "\n",
    "        \"\"\"\n",
    "        pass\n",
    "\n",
    "class DoG(Layer):\n",
    "    def __init__(self, layer_name, threshold, mode):\n",
    "        super(DoG, self).__init__(layer_name, threshold)\n",
    "        self.on_kernel = None \n",
    "        self.off_kernel = None \n",
    "        self.mode = mode\n",
    "        self._build_kernel()\n",
    "\n",
    "    def _build_kernel(self):\n",
    "        self.on_kernel = np.array([[-1/8,-1/8,-1/8],[-1/8,1,-1/8],[-1/8,-1/8,-1/8]])\n",
    "        self.off_kernel = np.array([[1/8,1/8,1/8],[1/8,-1,1/8],[1/8,1/8,1/8]])\n",
    "        \n",
    "    def _conv(self, x):\n",
    "        return np.array([np.matmul(x, self.on_kernel).sum(), np.matmul(x, self.off_kernel).sum()]).reshape(1, 2)\n",
    "\n",
    "    def _generate_spike(self, x):\n",
    "        spiketimes = np.zeros(x.shape)        \n",
    "        # Make large numbers represent earlier spikes (largest value maps to spike\n",
    "        # at time 0), and vice versa\n",
    "        spiketimes = np.full(x.shape, np.amax(x)) - x\n",
    "\n",
    "        # Negative values map to no spikes\n",
    "        spiketimes[x < 0] = -1\n",
    "        spiketimes[spiketimes > 7] = -1\n",
    "        spiketimes = np.round(spiketimes)\n",
    "        # We set 0 as no spike and the minimum spiketime starts from 1 and ends at 8\n",
    "        # This is mainly for the simplicity \n",
    "        if self.mode == 'Full':\n",
    "            return spiketimes+1\n",
    "        elif self.mode == 'On':\n",
    "            return spiketimes[:0]+1\n",
    "        else:\n",
    "            return spiketimes[1:]+1\n",
    "        \n",
    "    def forward(self, x, num_bits=3):\n",
    "        a = []\n",
    "        for i in range(2 ** num_bits):\n",
    "            a += [i] * int(256/(2 ** num_bits))\n",
    "        a = np.asarray(a)\n",
    "        scaled_data = a[x]\n",
    "        W, H = scaled_data.shape\n",
    "        filtered_data = np.zeros((W, H, 2))\n",
    "        padded_data = np.pad(scaled_data,\n",
    "                            ((1, 1), (1, 1)),\n",
    "                            'constant',\n",
    "                            constant_values=0) #deal with the edge by padding around\n",
    "        for i in range(1, padded_data.shape[0]-1):\n",
    "            for j in range(1, padded_data.shape[1]-1):\n",
    "                filtered_data[i-1, j-1, :] = self._conv(padded_data[i-1:i+2, j-1:j+2])\n",
    "\n",
    "        return self._generate_spike(filtered_data)\n",
    "\n",
    "class Conv(Layer):\n",
    "    def __init__(self, layer_name, threshold, mode, size, stride, pad):\n",
    "        super(Conv, self).__init__(layer_name, threshold)\n",
    "        self.mode = mode\n",
    "        self.stride = stride\n",
    "        self.pad = pad\n",
    "        self.size = size \n",
    "        self.threshold = threshold\n",
    "        self.rf = self._rf_init()\n",
    "        self.weights = np.random.randint(low=1, high=8, size=self.rf.shape) * self.rf\n",
    "        self.rf = self.rf[0]\n",
    "\n",
    "    def _rf_init(self):\n",
    "        '''\n",
    "            size should be Channel First. e.g: 4x3x3\n",
    "            mode: \n",
    "            Full: all receptive filed\n",
    "            Cornel: e.g.:   [1, 0, 1],\n",
    "                            [0, 0, 0],\n",
    "                            [1, 0, 1]]\n",
    "            Center: e.g.:   [1, 0, 1],\n",
    "                            [0, 1, 0],\n",
    "                            [1, 0, 1]]\n",
    "\n",
    "        '''\n",
    "        kernel = np.ones(self.size)\n",
    "        if self.mode == 'Full':\n",
    "            return kernel \n",
    "        if self.mode == 'Corner':\n",
    "            for i in range(kernel.shape[1]):\n",
    "                for j in range(kernel.shape[2]):\n",
    "                    if (i%2 != j%2):\n",
    "                        kernel[:, i, j] = 0    \n",
    "            kernel[:, int(kernel.shape[1]/2), int(kernel.shape[1]/2)] = 0   \n",
    "            return kernel    \n",
    "        if self.mode == 'Center':\n",
    "            for i in range(kernel.shape[1]):\n",
    "                for j in range(kernel.shape[2]):\n",
    "                    if (i%2 != j%2):\n",
    "                        kernel[:, i, j] = 0    \n",
    "            return kernel   \n",
    "    \n",
    "    def _conv(self, window, weights, potentials=None):\n",
    "        '''\n",
    "        x: WxHxC input window\n",
    "        weights: WxH  corresponding weights\n",
    "        potentials: initial potentials\n",
    "        '''\n",
    "        if potentials is None:\n",
    "            potentials = np.zeros(MAX_TIME)    \n",
    "        x = np.transpose(window, (2,0,1)) # transpose to channel first \n",
    "        for channel in x:\n",
    "            channel *= self.rf \n",
    "            for i in range(channel.shape[0]):\n",
    "                for j in range(channel.shape[1]):\n",
    "                    if channel[i][j]:\n",
    "                        potentials[int(channel[i][j])-1:] += weights[i][j]\n",
    "        diff = potentials > self.threshold\n",
    "        if True in diff:\n",
    "            return np.where(diff == True)[0][0] + 1\n",
    "        else:\n",
    "            return 0\n",
    "        \n",
    "    def forward(self, x):\n",
    "        W, H, C = x.shape\n",
    "        Wout = (int(W - self.size[1] + 2*self.pad) / self.stride) + 1\n",
    "        Hout = (int(H - self.size[2] + 2*self.pad) / self.stride) + 1\n",
    "        Cout = self.size[0]\n",
    "        Wout, Hout, Cout = int(Wout), int(Hout), int(Cout)\n",
    "        result = np.zeros((Wout, Hout, Cout))\n",
    "        w = int(self.rf.shape[0]/2)\n",
    "        h = int(self.rf.shape[1]/2)\n",
    "        x = np.pad(x, ((self.pad, self.pad), (self.pad, self.pad), (0, 0)), 'constant', constant_values=0) #deal with the edge by padding around  \n",
    "        for k in range(self.size[0]): # for each filter\n",
    "            for i in range(w, x.shape[0]-w, self.stride):\n",
    "                for j in range(h, x.shape[1]-h, self.stride):\n",
    "                    window = x[i-w:i+w+1, j-h:j+h+1, :]\n",
    "                    result[i-w, j-h, k] = self._conv(window.copy(), self.weights[k])\n",
    "        return result\n",
    "\n",
    "\n",
    "class LI(Layer):\n",
    "    def __init__(self, layer_name):\n",
    "        super(LI, self).__init__(layer_name, None)\n",
    "        \n",
    "    def forward(self, x):\n",
    "        for i in range(x.shape[0]):\n",
    "            for j in range(x.shape[1]):\n",
    "                if np.sum(x[i, j, :]):\n",
    "                    a = x[i, j, :]\n",
    "                    fire_id = np.random.choice(a.shape[0], 1, p=a/a.sum())[0]     \n",
    "                    mask = np.zeros_like(a)  \n",
    "                    mask[fire_id] += 1\n",
    "                    x[i, j, :] *= mask\n",
    "        return x\n",
    "\n",
    "class MaxPool(Layer):\n",
    "    def __init__(self, layer_name, size, stride):\n",
    "        super(MaxPool, self).__init__(layer_name, None)\n",
    "        self.size = size\n",
    "        self.stride = stride\n",
    "\n",
    "    def _pool(self, window):\n",
    "        window = window.flatten()\n",
    "        window = np.sort(window)\n",
    "        for x in window:\n",
    "            if x > 0:\n",
    "                return x\n",
    "        return 0\n",
    "\n",
    "    def forward(self, x):\n",
    "        W, H, C = x.shape\n",
    "        Wout = (int(W - self.size) / self.stride) + 1\n",
    "        Hout = (int(H - self.size) / self.stride) + 1\n",
    "        Cout = C\n",
    "        Wout, Hout, Cout = int(Wout), int(Hout), int(Cout)\n",
    "        result = np.zeros((Wout, Hout, Cout)) #channel first\n",
    "        print (result.shape)\n",
    "        w = int(self.size/2)\n",
    "        h = int(self.size/2)       \n",
    "        for k in range(C): # for each filter\n",
    "            for i in range(w, W-w, self.stride):\n",
    "                for j in range(h, H-h, self.stride):\n",
    "                    window = x[i-w:i+w+1, j-h:j+h+1, k]\n",
    "                    result[i-w, j-h, k] = self._pool(window.copy())            \n",
    "        return result           "
   ]
  },
  {
   "cell_type": "code",
   "execution_count": 384,
   "metadata": {},
   "outputs": [],
   "source": [
    "mnist = fetch_mldata('MNIST original')\n",
    "N, _ = mnist.data.shape\n",
    "\n",
    "# Reshape the data to be square\n",
    "mnist.square_data = mnist.data.reshape(N,28,28)\n",
    "layer1 = DoG(layer_name='DoG', threshold=None, mode='Full')\n",
    "layer2 = Conv(layer_name='conv1', threshold=19, mode='Full', size=(2,5,5), stride=1, pad=1)\n",
    "layer3 = LI(layer_name='conv1_LI')\n",
    "layer4 = MaxPool(layer_name='conv1_pool', size=3, stride=2)"
   ]
  },
  {
   "cell_type": "code",
   "execution_count": 385,
   "metadata": {},
   "outputs": [
    {
     "data": {
      "image/png": "[encoded data removed]",
      "text/plain": [
       "<Figure size 432x288 with 2 Axes>"
      ]
     },
     "metadata": {
      "needs_background": "light"
     },
     "output_type": "display_data"
    }
   ],
   "source": [
    "result = layer1(mnist.square_data[0])\n",
    "plt.imshow(result[:,:,0])\n",
    "plt.colorbar()\n",
    "plt.show()"
   ]
  },
  {
   "cell_type": "code",
   "execution_count": 386,
   "metadata": {},
   "outputs": [],
   "source": [
    "result2 = layer2(result)"
   ]
  },
  {
   "cell_type": "code",
   "execution_count": 387,
   "metadata": {},
   "outputs": [
    {
     "data": {
      "text/plain": [
       "(26, 26, 2)"
      ]
     },
     "execution_count": 387,
     "metadata": {},
     "output_type": "execute_result"
    }
   ],
   "source": [
    "result2.shape"
   ]
  },
  {
   "cell_type": "code",
   "execution_count": 388,
   "metadata": {},
   "outputs": [
    {
     "data": {
      "image/png": "[encoded data removed]",
      "text/plain": [
       "<Figure size 432x288 with 2 Axes>"
      ]
     },
     "metadata": {
      "needs_background": "light"
     },
     "output_type": "display_data"
    }
   ],
   "source": [
    "plt.imshow(result2[:,:,1])\n",
    "plt.colorbar()\n",
    "plt.show()"
   ]
  },
  {
   "cell_type": "code",
   "execution_count": 389,
   "metadata": {},
   "outputs": [
    {
     "data": {
      "image/png": "[encoded data removed]",
      "text/plain": [
       "<Figure size 432x288 with 2 Axes>"
      ]
     },
     "metadata": {
      "needs_background": "light"
     },
     "output_type": "display_data"
    }
   ],
   "source": [
    "result3 = layer3(result2)\n",
    "plt.imshow(result3[:,:,1])\n",
    "plt.colorbar()\n",
    "plt.show()"
   ]
  },
  {
   "cell_type": "code",
   "execution_count": 390,
   "metadata": {},
   "outputs": [
    {
     "ename": "IndexError",
     "evalue": "index 12 is out of bounds for axis 1 with size 12",
     "output_type": "error",
     "traceback": [
      "\u001b[0;31m---------------------------------------------------------------------------\u001b[0m",
      "\u001b[0;31mIndexError\u001b[0m                                Traceback (most recent call last)",
      "\u001b[0;32m<ipython-input-390-dce33e9c2d9f>\u001b[0m in \u001b[0;36m<module>\u001b[0;34m()\u001b[0m\n\u001b[0;32m----> 1\u001b[0;31m \u001b[0mresult4\u001b[0m \u001b[0;34m=\u001b[0m \u001b[0mlayer4\u001b[0m\u001b[0;34m(\u001b[0m\u001b[0mresult3\u001b[0m\u001b[0;34m)\u001b[0m\u001b[0;34m\u001b[0m\u001b[0m\n\u001b[0m",
      "\u001b[0;32m<ipython-input-383-3b85bd905622>\u001b[0m in \u001b[0;36m__call__\u001b[0;34m(self, x)\u001b[0m\n\u001b[1;32m     13\u001b[0m \u001b[0;34m\u001b[0m\u001b[0m\n\u001b[1;32m     14\u001b[0m     \u001b[0;32mdef\u001b[0m \u001b[0m__call__\u001b[0m\u001b[0;34m(\u001b[0m\u001b[0mself\u001b[0m\u001b[0;34m,\u001b[0m \u001b[0mx\u001b[0m\u001b[0;34m)\u001b[0m\u001b[0;34m:\u001b[0m\u001b[0;34m\u001b[0m\u001b[0m\n\u001b[0;32m---> 15\u001b[0;31m         \u001b[0;32mreturn\u001b[0m \u001b[0mself\u001b[0m\u001b[0;34m.\u001b[0m\u001b[0mforward\u001b[0m\u001b[0;34m(\u001b[0m\u001b[0mx\u001b[0m\u001b[0;34m)\u001b[0m\u001b[0;34m\u001b[0m\u001b[0m\n\u001b[0m\u001b[1;32m     16\u001b[0m \u001b[0;34m\u001b[0m\u001b[0m\n\u001b[1;32m     17\u001b[0m     \u001b[0;32mdef\u001b[0m \u001b[0mreset\u001b[0m\u001b[0;34m(\u001b[0m\u001b[0mself\u001b[0m\u001b[0;34m)\u001b[0m\u001b[0;34m:\u001b[0m\u001b[0;34m\u001b[0m\u001b[0m\n",
      "\u001b[0;32m<ipython-input-383-3b85bd905622>\u001b[0m in \u001b[0;36mforward\u001b[0;34m(self, x)\u001b[0m\n\u001b[1;32m    202\u001b[0m                 \u001b[0;32mfor\u001b[0m \u001b[0mj\u001b[0m \u001b[0;32min\u001b[0m \u001b[0mrange\u001b[0m\u001b[0;34m(\u001b[0m\u001b[0mh\u001b[0m\u001b[0;34m,\u001b[0m \u001b[0mx\u001b[0m\u001b[0;34m.\u001b[0m\u001b[0mshape\u001b[0m\u001b[0;34m[\u001b[0m\u001b[0;36m1\u001b[0m\u001b[0;34m]\u001b[0m\u001b[0;34m-\u001b[0m\u001b[0mh\u001b[0m\u001b[0;34m,\u001b[0m \u001b[0mself\u001b[0m\u001b[0;34m.\u001b[0m\u001b[0mstride\u001b[0m\u001b[0;34m)\u001b[0m\u001b[0;34m:\u001b[0m\u001b[0;34m\u001b[0m\u001b[0m\n\u001b[1;32m    203\u001b[0m                     \u001b[0mwindow\u001b[0m \u001b[0;34m=\u001b[0m \u001b[0mx\u001b[0m\u001b[0;34m[\u001b[0m\u001b[0mi\u001b[0m\u001b[0;34m-\u001b[0m\u001b[0mw\u001b[0m\u001b[0;34m:\u001b[0m\u001b[0mi\u001b[0m\u001b[0;34m+\u001b[0m\u001b[0mw\u001b[0m\u001b[0;34m+\u001b[0m\u001b[0;36m1\u001b[0m\u001b[0;34m,\u001b[0m \u001b[0mj\u001b[0m\u001b[0;34m-\u001b[0m\u001b[0mh\u001b[0m\u001b[0;34m:\u001b[0m\u001b[0mj\u001b[0m\u001b[0;34m+\u001b[0m\u001b[0mh\u001b[0m\u001b[0;34m+\u001b[0m\u001b[0;36m1\u001b[0m\u001b[0;34m,\u001b[0m \u001b[0mk\u001b[0m\u001b[0;34m]\u001b[0m\u001b[0;34m\u001b[0m\u001b[0m\n\u001b[0;32m--> 204\u001b[0;31m                     \u001b[0mresult\u001b[0m\u001b[0;34m[\u001b[0m\u001b[0mi\u001b[0m\u001b[0;34m-\u001b[0m\u001b[0mw\u001b[0m\u001b[0;34m,\u001b[0m \u001b[0mj\u001b[0m\u001b[0;34m-\u001b[0m\u001b[0mh\u001b[0m\u001b[0;34m,\u001b[0m \u001b[0mk\u001b[0m\u001b[0;34m]\u001b[0m \u001b[0;34m=\u001b[0m \u001b[0mself\u001b[0m\u001b[0;34m.\u001b[0m\u001b[0m_pool\u001b[0m\u001b[0;34m(\u001b[0m\u001b[0mwindow\u001b[0m\u001b[0;34m.\u001b[0m\u001b[0mcopy\u001b[0m\u001b[0;34m(\u001b[0m\u001b[0;34m)\u001b[0m\u001b[0;34m)\u001b[0m\u001b[0;34m\u001b[0m\u001b[0m\n\u001b[0m\u001b[1;32m    205\u001b[0m         \u001b[0;32mreturn\u001b[0m \u001b[0mresult\u001b[0m\u001b[0;34m\u001b[0m\u001b[0m\n",
      "\u001b[0;31mIndexError\u001b[0m: index 12 is out of bounds for axis 1 with size 12"
     ]
    }
   ],
   "source": [
    "result4 = layer4(result3)"
   ]
  },
  {
   "cell_type": "code",
   "execution_count": null,
   "metadata": {},
   "outputs": [],
   "source": []
  },
  {
   "cell_type": "code",
   "execution_count": null,
   "metadata": {},
   "outputs": [],
   "source": []
  }
 ],
 "metadata": {
  "kernelspec": {
   "display_name": "Python 3",
   "language": "python",
   "name": "python3"
  },
  "language_info": {
   "codemirror_mode": {
    "name": "ipython",
    "version": 3
   },
   "file_extension": ".py",
   "mimetype": "text/x-python",
   "name": "python",
   "nbconvert_exporter": "python",
   "pygments_lexer": "ipython3",
   "version": "3.6.5"
  }
 },
 "nbformat": 4,
 "nbformat_minor": 2
}
