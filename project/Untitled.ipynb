{
 "cells": [
  {
   "cell_type": "code",
   "execution_count": 2,
   "metadata": {},
   "outputs": [],
   "source": [
    "import math\n",
    "import numpy as np\n",
    "import matplotlib.pyplot as plt\n",
    "from sklearn.datasets import fetch_mldata\n",
    "from Conv_tnn import DoG\n",
    "mnist = fetch_mldata('MNIST original')\n",
    "N, _ = mnist.data.shape\n",
    "\n",
    "# Reshape the data to be square\n",
    "mnist.square_data = mnist.data.reshape(N,28,28)"
   ]
  },
  {
   "cell_type": "code",
   "execution_count": 6,
   "metadata": {},
   "outputs": [
    {
     "data": {
      "text/plain": [
       "array([0., 0., 0., ..., 9., 9., 9.])"
      ]
     },
     "execution_count": 6,
     "metadata": {},
     "output_type": "execute_result"
    }
   ],
   "source": [
    "mnist.target"
   ]
  },
  {
   "cell_type": "code",
   "execution_count": 2,
   "metadata": {},
   "outputs": [],
   "source": [
    "layer = DoG(layer_name='DoG', threshold=None)"
   ]
  },
  {
   "cell_type": "code",
   "execution_count": 3,
   "metadata": {},
   "outputs": [],
   "source": [
    "result = layer(mnist.square_data[0])"
   ]
  },
  {
   "cell_type": "code",
   "execution_count": 4,
   "metadata": {},
   "outputs": [
    {
     "data": {
      "text/plain": [
       "7.0"
      ]
     },
     "execution_count": 4,
     "metadata": {},
     "output_type": "execute_result"
    }
   ],
   "source": [
    "result.shape\n",
    "result.max()"
   ]
  },
  {
   "cell_type": "code",
   "execution_count": 6,
   "metadata": {},
   "outputs": [
    {
     "data": {
      "image/png": "[encoded data removed]",
      "text/plain": [
       "<Figure size 432x288 with 2 Axes>"
      ]
     },
     "metadata": {
      "needs_background": "light"
     },
     "output_type": "display_data"
    }
   ],
   "source": [
    "plt.imshow(result[:,:,1])\n",
    "plt.colorbar()\n",
    "plt.show()"
   ]
  },
  {
   "cell_type": "code",
   "execution_count": 61,
   "metadata": {},
   "outputs": [],
   "source": [
    "A = np.random.randint(low=1, high=7, size=(4,3,3))\n",
    "for i in range(A.shape[1]):\n",
    "    for j in range(A.shape[2]):\n",
    "        if (i%2 != j%2):\n",
    "            A[:, i, j] = 0"
   ]
  },
  {
   "cell_type": "code",
   "execution_count": 62,
   "metadata": {},
   "outputs": [
    {
     "data": {
      "text/plain": [
       "array([[[4, 0, 4],\n",
       "        [0, 5, 0],\n",
       "        [2, 0, 4]],\n",
       "\n",
       "       [[3, 0, 3],\n",
       "        [0, 1, 0],\n",
       "        [6, 0, 6]],\n",
       "\n",
       "       [[4, 0, 1],\n",
       "        [0, 5, 0],\n",
       "        [5, 0, 6]],\n",
       "\n",
       "       [[2, 0, 1],\n",
       "        [0, 1, 0],\n",
       "        [3, 0, 6]]])"
      ]
     },
     "execution_count": 62,
     "metadata": {},
     "output_type": "execute_result"
    }
   ],
   "source": [
    "#A[:, int(A.shape[1]/2), int(A.shape[1]/2)] = 0\n",
    "A"
   ]
  },
  {
   "cell_type": "code",
   "execution_count": 74,
   "metadata": {},
   "outputs": [
    {
     "data": {
      "text/plain": [
       "(6,)"
      ]
     },
     "execution_count": 74,
     "metadata": {},
     "output_type": "execute_result"
    }
   ],
   "source": [
    "a = np.zeros((3,3,6))\n",
    "a[0,0,:].shape"
   ]
  },
  {
   "cell_type": "code",
   "execution_count": 65,
   "metadata": {},
   "outputs": [
    {
     "data": {
      "text/plain": [
       "array([0.33333333, 0.33333333, 0.        , 0.33333333, 0.        ,\n",
       "       0.        ])"
      ]
     },
     "execution_count": 65,
     "metadata": {},
     "output_type": "execute_result"
    }
   ],
   "source": [
    "a[[1,3,0]] = 1\n",
    "a/a.sum()"
   ]
  },
  {
   "cell_type": "code",
   "execution_count": 73,
   "metadata": {},
   "outputs": [
    {
     "data": {
      "text/plain": [
       "0"
      ]
     },
     "execution_count": 73,
     "metadata": {},
     "output_type": "execute_result"
    }
   ],
   "source": [
    "np.random.choice(6, 1, p=a/a.sum())[0] "
   ]
  },
  {
   "cell_type": "code",
   "execution_count": 44,
   "metadata": {},
   "outputs": [],
   "source": [
    "import math\n",
    "import numpy as np\n",
    "from scipy import stats\n",
    "import matplotlib.pyplot as plt\n",
    "from collections import deque\n",
    "from sklearn.datasets import fetch_mldata\n",
    "from sklearn import svm\n",
    "from sklearn.metrics import accuracy_score\n",
    "from sklearn.model_selection import train_test_split\n",
    "from tqdm import tqdm\n",
    "MAX_TIME = 32\n",
    "MAX_ITERATION = 50\n",
    "\n",
    "\n",
    "\n",
    "\n",
    "def rconv(size):\n",
    "    result = np.zeros(size)\n",
    "    mid = int(size/2)\n",
    "    left, right = mid-1, mid+1\n",
    "    i = 1\n",
    "    while left >=0 and right <=size-1:\n",
    "        result[left] = -i\n",
    "        result[right] = i\n",
    "        left -= 1\n",
    "        right += 1\n",
    "        i += 1\n",
    "    return result.astype('int')\n",
    "\n",
    "class Layer():\n",
    "    def __init__(self, layer_name, threshold):\n",
    "        self.layer_name = layer_name\n",
    "        self.threshold = threshold\n",
    "\n",
    "    def __call__(self, x):\n",
    "        return self.forward(x)\n",
    "\n",
    "    def reset(self):\n",
    "        # Reset the network, clearing out any accumulator variables, etc\n",
    "        pass\n",
    "\n",
    "    def forward(self, x):\n",
    "        \"\"\"\n",
    "        This function will control the different processing steps for a\n",
    "        single image\n",
    "\n",
    "        \"\"\"\n",
    "        pass\n",
    "\n",
    "class DoG(Layer):\n",
    "    def __init__(self, layer_name, threshold, mode, s1,s2):\n",
    "        super(DoG, self).__init__(layer_name, threshold)\n",
    "        self.on_kernel = None \n",
    "        self.off_kernel = None \n",
    "        self.mode = mode\n",
    "        self.s1 = s1\n",
    "        self.s2 = s2\n",
    "        self._build_kernel()\n",
    "\n",
    "    def _build_kernel(self):\n",
    "        self.on_kernel = self._build_filter(3)\n",
    "        self.off_kernel = -self.on_kernel\n",
    "        \n",
    "    def _conv(self, x):\n",
    "        return np.array([np.matmul(x, self.on_kernel).sum(), np.matmul(x, self.off_kernel).sum()]).reshape(1, 2)\n",
    "\n",
    "    def _build_filter(self, size):\n",
    "        r = np.arange(size)+1\n",
    "        x = np.tile(r, [size, 1])\n",
    "        y = x.T\n",
    "        d2 = (x-size/2.-0.5)**2 + (y-size/2.-0.5)**2\n",
    "        filt = 1/np.sqrt(2*np.pi) * (1/self.s1 * np.exp(-d2/(2*(self.s1**2))) - 1/self.s2 * np.exp(-d2/(2*(self.s2**2))))\n",
    "        filt -= np.mean(filt[:])\n",
    "        filt /= np.amax(filt[:])\n",
    "        return filt\n",
    "\n",
    "    def _generate_spike(self, x, num_bits):\n",
    "        x[x<1] = -1\n",
    "        spiketimes = np.zeros(x.shape)        \n",
    "        # Make large numbers represent earlier spikes (largest value maps to spike\n",
    "        # at time 0), and vice versa\n",
    "        spiketimes = np.full(x.shape, np.amax(x)) - x\n",
    "\n",
    "        # Negative values map to no spikes\n",
    "        spiketimes[x < 0] = -1\n",
    "        spiketimes[spiketimes > 2 ** num_bits] = -1\n",
    "        spiketimes = np.round(spiketimes)\n",
    "        # We set 0 as no spike and the minimum spiketime starts from 1 and ends at 2 ** num_bits\n",
    "        # This is mainly for the simplicity \n",
    "        if self.mode == 'Full':\n",
    "            return spiketimes+1\n",
    "        elif self.mode == 'On':\n",
    "            return spiketimes[:,:,:1]+1\n",
    "        else:\n",
    "            return spiketimes[:,:,1:]+1\n",
    "        \n",
    "    def forward(self, x, num_bits=5):\n",
    "        a = []\n",
    "        for i in range(2 ** num_bits):\n",
    "            a += [i] * int(256/(2 ** num_bits))\n",
    "        a = np.asarray(a)\n",
    "        scaled_data = a[x]\n",
    "        W, H = scaled_data.shape\n",
    "\n",
    "        filtered_data = np.zeros((W, H, 2))\n",
    "        padded_data = np.pad(scaled_data,\n",
    "                            ((1, 1), (1, 1)),\n",
    "                            'constant',\n",
    "                            constant_values=0) #deal with the edge by padding around\n",
    "        for i in range(1, padded_data.shape[0]-1):\n",
    "            for j in range(1, padded_data.shape[1]-1):\n",
    "                filtered_data[i-1, j-1, :] = self._conv(padded_data[i-1:i+2, j-1:j+2])\n",
    "\n",
    "        return self._generate_spike(filtered_data, num_bits=num_bits)\n",
    "\n",
    "class Conv(Layer):\n",
    "    def __init__(self, layer_name, threshold, mode, size, stride, pad):\n",
    "        super(Conv, self).__init__(layer_name, threshold)\n",
    "        self.mode = mode\n",
    "        self.stride = stride\n",
    "        self.pad = pad\n",
    "        self.size = size \n",
    "        self.threshold = threshold\n",
    "        self.rf = self._rf_init()\n",
    "        C1, C2, W, H = self.rf.shape # C1, dim of cur layer, C2 dim of pre layer\n",
    "        self.weights = (0.8+np.random.randn(C1, C2, W, H) * 0.05)\n",
    "        self.weights[self.weights >= 1.] = 0.99\n",
    "        self.weights[self.weights <= 0.] = 0.01\n",
    "        self.weights *= self.rf\n",
    "\n",
    "        self.rf = self.rf[0][0] # W x H\n",
    "        self.presynaptic = None\n",
    "        self.postsynaptic = None\n",
    "        self.aplus = 4e-3\n",
    "        self.aminus = 3e-3\n",
    "        self.dw = np.zeros_like(self.weights)\n",
    "        self.inter_threshold = 3\n",
    "        self.IL = LI(layer_name=self.layer_name+'_LI')\n",
    "    \n",
    "    def clear_dw(self):\n",
    "        self.dw = np.zeros_like(self.weights)\n",
    "\n",
    "    def _rf_init(self):\n",
    "        '''\n",
    "            size should be Channel First. e.g: 4x4x3x3\n",
    "            mode: \n",
    "            Full: all receptive filed\n",
    "            Cornel: e.g.:   [1, 0, 1],\n",
    "                            [0, 0, 0],\n",
    "                            [1, 0, 1]]\n",
    "            Center: e.g.:   [1, 0, 1],\n",
    "                            [0, 1, 0],\n",
    "                            [1, 0, 1]]\n",
    "\n",
    "        '''\n",
    "        kernel = np.ones(self.size)\n",
    "        if self.mode == 'Full':\n",
    "            return kernel \n",
    "        if self.mode == 'Corner':\n",
    "            for i in range(kernel.shape[2]):\n",
    "                for j in range(kernel.shape[3]):\n",
    "                    if (i%2 != j%2):\n",
    "                        kernel[:, :, i, j] = 0    \n",
    "            kernel[:, :, int(kernel.shape[1]/2), int(kernel.shape[1]/2)] = 0   \n",
    "            return kernel    \n",
    "        if self.mode == 'Center':\n",
    "            for i in range(kernel.shape[2]):\n",
    "                for j in range(kernel.shape[3]):\n",
    "                    if (i%2 != j%2):\n",
    "                        kernel[:, :, i, j] = 0    \n",
    "            return kernel   \n",
    "    \n",
    "    def _conv(self, window, weights, potentials=None):\n",
    "        '''\n",
    "        window: WxHxC2 input window\n",
    "        weights: C2xWxH  corresponding weights\n",
    "        potentials: initial potentials\n",
    "        '''\n",
    "        if potentials is None:\n",
    "            potentials = np.zeros(MAX_TIME)    \n",
    "        x = np.transpose(window, (2,0,1)) # transpose to channel first \n",
    "        for k in range(x.shape[0]):\n",
    "            channel = self.rf * x[k, :, :]\n",
    "            for i in range(channel.shape[0]):\n",
    "                for j in range(channel.shape[1]):\n",
    "                    if channel[i][j]:\n",
    "                        potentials[int(channel[i][j])-1:] += weights[k][i][j]\n",
    "        diff = potentials > self.threshold\n",
    "        if True in diff:\n",
    "            return np.where(diff == True)[0][0] + 1\n",
    "        else:\n",
    "            return 0\n",
    "        \n",
    "    def forward(self, x):\n",
    "        self.presynaptic = x\n",
    "        W, H, C = x.shape\n",
    "        Wout = (int(W - self.size[2] + 2*self.pad) / self.stride) + 1\n",
    "        Hout = (int(H - self.size[3] + 2*self.pad) / self.stride) + 1\n",
    "        Cout = self.size[0]\n",
    "        Wout, Hout, Cout = int(Wout), int(Hout), int(Cout)\n",
    "        result = np.zeros((Wout, Hout, Cout))\n",
    "        w = int(self.rf.shape[0]/2)\n",
    "        h = int(self.rf.shape[1]/2)\n",
    "        x = np.pad(x, ((self.pad, self.pad), (self.pad, self.pad), (0, 0)), 'constant', constant_values=0) #deal with the edge by padding around  \n",
    "        for k in range(self.size[0]): # for each filter\n",
    "            for i in range(w, x.shape[0]-w, self.stride):\n",
    "                for j in range(h, x.shape[1]-h, self.stride):\n",
    "                    window = x[i-w:i+w+1, j-h:j+h+1, :]\n",
    "                    result[int((i-w)/self.stride), int((j-h)/self.stride), k] = self._conv(window.copy(), self.weights[k])\n",
    "        self.postsynaptic = self.IL(result)\n",
    "        return self.postsynaptic\n",
    "    \n",
    "    def stdp_update(self):\n",
    "        self.clear_dw()\n",
    "        inter_competition = deque()\n",
    "        for k in range(self.postsynaptic.shape[2]): # for each filter\n",
    "            feature_map = self.postsynaptic[:,:,k]\n",
    "            if np.nonzero(feature_map)[0].shape[0]:\n",
    "                minval = np.min(feature_map[np.nonzero(feature_map)])\n",
    "                xs, ys = np.where(feature_map == minval)\n",
    "                for m in range(MAX_ITERATION):\n",
    "                    stdp_index = np.random.choice(len(xs))\n",
    "                    stdp_x = xs[stdp_index]\n",
    "                    stdp_y = ys[stdp_index]    \n",
    "                    if (stdp_x, stdp_y) not in inter_competition:\n",
    "                        break \n",
    "                if m == MAX_ITERATION - 1:\n",
    "                    continue\n",
    "                else:\n",
    "                    if len(inter_competition) < self.inter_threshold:\n",
    "                        inter_competition.append((stdp_x, stdp_y))\n",
    "                    else:\n",
    "                        inter_competition.popleft()\n",
    "                        inter_competition.append((stdp_x, stdp_y))   \n",
    "                    \n",
    "                    Ti = self.postsynaptic[stdp_x, stdp_y, k]\n",
    "                    j_list = rconv(self.size[-1])\n",
    "                    for m in j_list:\n",
    "                        for n in j_list:\n",
    "                            for l in range(self.presynaptic.shape[-1]):\n",
    "                                Tj = self.presynaptic[stdp_x+m, stdp_y+n, l]\n",
    "                                if Tj - Ti <= 0:\n",
    "                                    self.dw[k, l, m+int(self.size[-1]/2),n+int(self.size[-1]/2)] += self.aplus * self.weights[k, l, m+int(self.size[-1]/2),n+int(self.size[-1]/2)] * (1-self.weights[k, l, m+int(self.size[-1]/2),n+int(self.size[-1]/2)])\n",
    "                                else:\n",
    "                                    self.dw[k, l, m+int(self.size[-1]/2),n+int(self.size[-1]/2)] += self.aminus * self.weights[k, l, m+int(self.size[-1]/2),n+int(self.size[-1]/2)] * (1-self.weights[k, l, m+int(self.size[-1]/2),n+int(self.size[-1]/2)]) \n",
    "                                            \n",
    "        self.weights += self.dw \n",
    "\n",
    "class LI(Layer):\n",
    "    def __init__(self, layer_name):\n",
    "        super(LI, self).__init__(layer_name, None)\n",
    "        \n",
    "    def forward(self, x):\n",
    "        for i in range(x.shape[0]):\n",
    "            for j in range(x.shape[1]):\n",
    "                if np.sum(x[i, j, :]):\n",
    "                    a = x[i, j, :]\n",
    "                    fire_id = np.random.choice(a.shape[0], 1, p=a/a.sum())[0]     \n",
    "                    mask = np.zeros_like(a)  \n",
    "                    mask[fire_id] += 1\n",
    "                    x[i, j, :] *= mask\n",
    "        return x\n",
    "\n",
    "class MaxPool(Layer):\n",
    "    def __init__(self, layer_name, size, stride):\n",
    "        super(MaxPool, self).__init__(layer_name, None)\n",
    "        self.size = size\n",
    "        self.stride = stride\n",
    "\n",
    "    def _pool(self, window):\n",
    "        window = window.flatten()\n",
    "        window = np.sort(window)\n",
    "        for x in window:\n",
    "            if x > 0:\n",
    "                return x\n",
    "        return 0\n",
    "\n",
    "\n",
    "    def forward(self, x):\n",
    "        W, H, C = x.shape\n",
    "        Wout = (int(W - self.size) / self.stride) + 1\n",
    "        Hout = (int(H - self.size) / self.stride) + 1\n",
    "        Cout = C\n",
    "        Wout, Hout, Cout = int(Wout), int(Hout), int(Cout)\n",
    "        result = np.zeros((Wout, Hout, Cout)) #channel first\n",
    "        print (result.shape)\n",
    "        w = int(self.size/2)\n",
    "        h = int(self.size/2)       \n",
    "        for k in range(C): # for each filter\n",
    "            for i in range(w, W-w, self.stride):\n",
    "                for j in range(h, H-h, self.stride):\n",
    "                    window = x[i-w:i+w+1, j-h:j+h+1, k]\n",
    "                    result[int((i-w)/self.stride), int((j-h)/self.stride), k] = self._pool(window.copy())            \n",
    "        return result           \n",
    "\n",
    "class GlobalMaxPool(Layer):\n",
    "    def __init__(self, layer_name, mode, threshold, size, stride, pad):\n",
    "        super(GlobalMaxPool, self).__init__(layer_name, threshold)\n",
    "        self.mode = mode\n",
    "        self.stride = stride\n",
    "        self.pad = pad\n",
    "        self.size = size \n",
    "        self.threshold = threshold\n",
    "        self.rf = self._rf_init()\n",
    "        C1, C2, W, H = self.rf.shape # C1, dim of cur layer, C2 dim of pre layer\n",
    "        self.weights = (0.8+np.random.randn(C1, C2, W, H) * 0.05)\n",
    "        self.weights[self.weights >= 1.] = 0.99\n",
    "        self.weights[self.weights <= 0.] = 0.01\n",
    "        self.weights *= self.rf\n",
    "\n",
    "        self.rf = self.rf[0][0] # W x H\n",
    "        self.presynaptic = None\n",
    "        self.postsynaptic = None\n",
    "        self.aplus = 4e-3\n",
    "        self.aminus = 3e-3\n",
    "        self.dw = np.zeros_like(self.weights)\n",
    "        self.inter_threshold = 3\n",
    "        self.IL = LI(layer_name=self.layer_name+'_LI')\n",
    "    \n",
    "    def __call__(self, x, training):\n",
    "        return self.forward(x, training) \n",
    "\n",
    "    def clear_dw(self):\n",
    "        self.dw = np.zeros_like(self.weights)\n",
    "\n",
    "    def _rf_init(self):\n",
    "        '''\n",
    "            size should be Channel First. e.g: 4x3x3\n",
    "            mode: \n",
    "            Full: all receptive filed\n",
    "            Cornel: e.g.:   [1, 0, 1],\n",
    "                            [0, 0, 0],\n",
    "                            [1, 0, 1]]\n",
    "            Center: e.g.:   [1, 0, 1],\n",
    "                            [0, 1, 0],\n",
    "                            [1, 0, 1]]\n",
    "\n",
    "        '''\n",
    "        kernel = np.ones(self.size)\n",
    "        if self.mode == 'Full':\n",
    "            return kernel \n",
    "        if self.mode == 'Corner':\n",
    "            for i in range(kernel.shape[1]):\n",
    "                for j in range(kernel.shape[2]):\n",
    "                    if (i%2 != j%2):\n",
    "                        kernel[:, i, j] = 0    \n",
    "            kernel[:, int(kernel.shape[1]/2), int(kernel.shape[1]/2)] = 0   \n",
    "            return kernel    \n",
    "        if self.mode == 'Center':\n",
    "            for i in range(kernel.shape[1]):\n",
    "                for j in range(kernel.shape[2]):\n",
    "                    if (i%2 != j%2):\n",
    "                        kernel[:, i, j] = 0    \n",
    "            return kernel   \n",
    "        \n",
    "    def _conv(self, window, weights, training, potentials=None):\n",
    "        '''\n",
    "        window: WxHxC2 input window\n",
    "        weights: C2xWxH  corresponding weights\n",
    "        potentials: initial potentials\n",
    "        '''\n",
    "        if potentials is None:\n",
    "            potentials = np.zeros(MAX_TIME)    \n",
    "        x = np.transpose(window, (2,0,1)) # transpose to channel first \n",
    "        for k in range(x.shape[0]):\n",
    "            channel = self.rf * x[k, :, :]\n",
    "            for i in range(channel.shape[0]):\n",
    "                for j in range(channel.shape[1]):\n",
    "                    if channel[i][j]:\n",
    "                        potentials[int(channel[i][j])-1:] += weights[k][i][j]\n",
    "        if training: # Learning\n",
    "            diff = potentials > self.threshold\n",
    "            if True in diff:\n",
    "                return np.where(diff == True)[0][0] + 1\n",
    "            else:\n",
    "                return 0\n",
    "        else: # Pooling\n",
    "            return potentials[-1]\n",
    "    \n",
    "    def _pool(self, x):\n",
    "        W, H, C = x.shape\n",
    "        result = np.zeros(C)\n",
    "        for k in range(C):\n",
    "            result[k] += np.amax(x[:,:,k])\n",
    "        return result\n",
    "        \n",
    "    def forward(self, x, training=True):\n",
    "        self.presynaptic = x\n",
    "        W, H, C = x.shape\n",
    "        Wout = (int(W - self.size[2] + 2*self.pad) / self.stride) + 1\n",
    "        Hout = (int(H - self.size[3] + 2*self.pad) / self.stride) + 1\n",
    "        Cout = self.size[0]\n",
    "        Wout, Hout, Cout = int(Wout), int(Hout), int(Cout)\n",
    "        result = np.zeros((Wout, Hout, Cout))\n",
    "        w = int(self.rf.shape[0]/2)\n",
    "        h = int(self.rf.shape[1]/2)\n",
    "        x = np.pad(x, ((self.pad, self.pad), (self.pad, self.pad), (0, 0)), 'constant', constant_values=0) #deal with the edge by padding around  \n",
    "        for k in range(self.size[0]): # for each filter\n",
    "            for i in range(w, x.shape[0]-w, self.stride):\n",
    "                for j in range(h, x.shape[1]-h, self.stride):\n",
    "                    window = x[i-w:i+w+1, j-h:j+h+1, :]\n",
    "                    result[int((i-w)/self.stride), int((j-h)/self.stride), k] = self._conv(window.copy(), self.weights[k], training)\n",
    "        self.postsynaptic = self.IL(result)\n",
    "        return self.postsynaptic if training else self._pool(result)\n",
    "\n",
    "    def stdp_update(self):\n",
    "        self.clear_dw()\n",
    "        inter_competition = deque()\n",
    "        for k in range(self.postsynaptic.shape[2]): # for each filter\n",
    "            feature_map = self.postsynaptic[:,:,k]\n",
    "            if np.nonzero(feature_map)[0].shape[0]:\n",
    "                minval = np.min(feature_map[np.nonzero(feature_map)])\n",
    "                xs, ys = np.where(feature_map == minval)\n",
    "                for m in range(MAX_ITERATION):\n",
    "                    stdp_index = np.random.choice(len(xs))\n",
    "                    stdp_x = xs[stdp_index]\n",
    "                    stdp_y = ys[stdp_index]    \n",
    "                    if (stdp_x, stdp_y) not in inter_competition:\n",
    "                        break \n",
    "                if m == MAX_ITERATION - 1:\n",
    "                    continue\n",
    "                else:\n",
    "                    if len(inter_competition) < self.inter_threshold:\n",
    "                        inter_competition.append((stdp_x, stdp_y))\n",
    "                    else:\n",
    "                        inter_competition.popleft()\n",
    "                        inter_competition.append((stdp_x, stdp_y))   \n",
    "                    \n",
    "                    Ti = self.postsynaptic[stdp_x, stdp_y, k]\n",
    "                    j_list = rconv(self.size[-1])\n",
    "                    for m in j_list:\n",
    "                        for n in j_list:\n",
    "                            for l in range(self.presynaptic.shape[-1]):\n",
    "                                Tj = self.presynaptic[stdp_x+m, stdp_y+n, l]\n",
    "                                if Tj - Ti <= 0:\n",
    "                                    self.dw[k, l, m+int(self.size[-1]/2),n+int(self.size[-1]/2)] += self.aplus * self.weights[k, l, m+int(self.size[-1]/2),n+int(self.size[-1]/2)] * (1-self.weights[k, l, m+int(self.size[-1]/2),n+int(self.size[-1]/2)])\n",
    "                                else:\n",
    "                                    self.dw[k, l, m+int(self.size[-1]/2),n+int(self.size[-1]/2)] += self.aminus * self.weights[k, l, m+int(self.size[-1]/2),n+int(self.size[-1]/2)] * (1-self.weights[k, l, m+int(self.size[-1]/2),n+int(self.size[-1]/2)]) \n",
    "                                            \n",
    "        self.weights += self.dw \n",
    "\n",
    "class MNISTmodel():\n",
    "    def __init__(self):\n",
    "        self.model = self._buildmodel()\n",
    "        self.clf = svm.SVC(gamma='scale')\n",
    "\n",
    "    def __call__(self, x):\n",
    "        self.forward(x)\n",
    "    \n",
    "    def _buildmodel(self):\n",
    "        layer = []\n",
    "        layer.append(DoG(layer_name='DoG', threshold=None, mode='Full', s1=1, s2=2))\n",
    "        layer.append(Conv(layer_name='conv1', threshold=15, mode='Full', size=(30,2,5,5), stride=2, pad=2))\n",
    "        layer.append(MaxPool(layer_name='pool', size=2, stride=2))\n",
    "        layer.append(GlobalMaxPool(layer_name='conv2_GMP', threshold=10, mode='Full', size=(100,30,5,5), stride=2, pad=2))\n",
    "        model = {layer[i].layer_name:layer[i] for i in range(len(layer))}     \n",
    "        return model   \n",
    "    \n",
    "    def forward(self, x):\n",
    "        if self.model is not None:\n",
    "            for k, v in self.model.items():\n",
    "                if 'GMP' in k:\n",
    "                    x = v(x, training=True)\n",
    "                else:\n",
    "                    x = v(x)\n",
    "        return x\n",
    "\n",
    "    def inference(self, x):\n",
    "        if self.model is not None:\n",
    "            for k, v in self.model.items():\n",
    "                if 'GMP' in k:\n",
    "                    return v(x, training=False)\n",
    "                else:\n",
    "                    x = v(x)\n",
    "    \n",
    "    def learn(self):\n",
    "        if self.model is not None:\n",
    "            for k, v in self.model.items():\n",
    "                if 'conv' in k:\n",
    "                    self.model[k].stdp_update()\n",
    "    \n",
    "    def train_svm(self, x, y):\n",
    "        self.clf.fit(x, y)  \n",
    "    \n",
    "    def test_svm(self, x, y):\n",
    "        pred = self.clf.predict(x)\n",
    "        acc = accuracy_score(y, pred)\n",
    "        print (\"Test accuracy of SVM is %f\" % acc)\n",
    "\n",
    "    def train(self, data, labels):\n",
    "        print (\"CTNN Training starts ...\")\n",
    "        for x in tqdm(data):\n",
    "            self.forward(x)\n",
    "            self.learn()\n",
    "        print (\"CTNN Training CTNN is finished\")\n",
    "        print (\"SVM Training starts\")\n",
    "        y = []\n",
    "        for x in tqdm(data):\n",
    "            y.append(self.inference(x)) \n",
    "        self.train_svm(y, labels)\n",
    "        print (\"SVM Training is finished\")\n",
    "\n",
    "    def test(self, data, labels):\n",
    "        y = []\n",
    "        for x in tqdm(data):\n",
    "            y.append(self.inference(x))\n",
    "\n",
    "        self.test_svm(y, labels)\n",
    "        print (\"Test is finished\")   \n",
    "\n",
    "\n",
    "\n",
    "\n"
   ]
  },
  {
   "cell_type": "code",
   "execution_count": 45,
   "metadata": {},
   "outputs": [
    {
     "name": "stderr",
     "output_type": "stream",
     "text": [
      "\r",
      "  0%|          | 0/49000 [00:00<?, ?it/s]"
     ]
    },
    {
     "name": "stdout",
     "output_type": "stream",
     "text": [
      "CTNN Training starts ...\n",
      "(7, 7, 30)\n"
     ]
    },
    {
     "name": "stderr",
     "output_type": "stream",
     "text": [
      "\r",
      "  0%|          | 1/49000 [00:01<14:04:33,  1.03s/it]"
     ]
    },
    {
     "name": "stdout",
     "output_type": "stream",
     "text": [
      "(7, 7, 30)\n"
     ]
    },
    {
     "name": "stderr",
     "output_type": "stream",
     "text": [
      "\r",
      "  0%|          | 2/49000 [00:02<14:02:22,  1.03s/it]"
     ]
    },
    {
     "name": "stdout",
     "output_type": "stream",
     "text": [
      "(7, 7, 30)\n"
     ]
    },
    {
     "name": "stderr",
     "output_type": "stream",
     "text": [
      "\r",
      "  0%|          | 3/49000 [00:03<13:59:04,  1.03s/it]"
     ]
    },
    {
     "name": "stdout",
     "output_type": "stream",
     "text": [
      "(7, 7, 30)\n"
     ]
    },
    {
     "name": "stderr",
     "output_type": "stream",
     "text": [
      "\r",
      "  0%|          | 4/49000 [00:04<14:11:33,  1.04s/it]"
     ]
    },
    {
     "name": "stdout",
     "output_type": "stream",
     "text": [
      "(7, 7, 30)\n"
     ]
    },
    {
     "name": "stderr",
     "output_type": "stream",
     "text": [
      "\r",
      "  0%|          | 5/49000 [00:05<13:59:12,  1.03s/it]"
     ]
    },
    {
     "name": "stdout",
     "output_type": "stream",
     "text": [
      "(7, 7, 30)\n"
     ]
    },
    {
     "name": "stderr",
     "output_type": "stream",
     "text": [
      "\r",
      "  0%|          | 6/49000 [00:06<13:41:00,  1.01s/it]"
     ]
    },
    {
     "name": "stdout",
     "output_type": "stream",
     "text": [
      "(7, 7, 30)\n"
     ]
    },
    {
     "name": "stderr",
     "output_type": "stream",
     "text": [
      "\r",
      "  0%|          | 7/49000 [00:07<14:13:20,  1.05s/it]"
     ]
    },
    {
     "name": "stdout",
     "output_type": "stream",
     "text": [
      "(7, 7, 30)\n"
     ]
    },
    {
     "name": "stderr",
     "output_type": "stream",
     "text": [
      "\n"
     ]
    },
    {
     "ename": "KeyboardInterrupt",
     "evalue": "",
     "output_type": "error",
     "traceback": [
      "\u001b[0;31m---------------------------------------------------------------------------\u001b[0m",
      "\u001b[0;31mKeyboardInterrupt\u001b[0m                         Traceback (most recent call last)",
      "\u001b[0;32m<ipython-input-45-2093535f8b59>\u001b[0m in \u001b[0;36m<module>\u001b[0;34m()\u001b[0m\n\u001b[1;32m     10\u001b[0m                                                         \u001b[0mtest_size\u001b[0m\u001b[0;34m=\u001b[0m\u001b[0;36m0.3\u001b[0m\u001b[0;34m,\u001b[0m\u001b[0;34m\u001b[0m\u001b[0m\n\u001b[1;32m     11\u001b[0m                                                         random_state=42)\n\u001b[0;32m---> 12\u001b[0;31m     \u001b[0mNet\u001b[0m\u001b[0;34m.\u001b[0m\u001b[0mtrain\u001b[0m\u001b[0;34m(\u001b[0m\u001b[0mX_train\u001b[0m\u001b[0;34m,\u001b[0m \u001b[0my_train\u001b[0m\u001b[0;34m)\u001b[0m\u001b[0;34m\u001b[0m\u001b[0m\n\u001b[0m\u001b[1;32m     13\u001b[0m     \u001b[0mNet\u001b[0m\u001b[0;34m.\u001b[0m\u001b[0mtest\u001b[0m\u001b[0;34m(\u001b[0m\u001b[0mX_test\u001b[0m\u001b[0;34m,\u001b[0m \u001b[0my_test\u001b[0m\u001b[0;34m)\u001b[0m\u001b[0;34m\u001b[0m\u001b[0m\n",
      "\u001b[0;32m<ipython-input-44-74e8f097ff89>\u001b[0m in \u001b[0;36mtrain\u001b[0;34m(self, data, labels)\u001b[0m\n\u001b[1;32m    491\u001b[0m         \u001b[0mprint\u001b[0m \u001b[0;34m(\u001b[0m\u001b[0;34m\"CTNN Training starts ...\"\u001b[0m\u001b[0;34m)\u001b[0m\u001b[0;34m\u001b[0m\u001b[0m\n\u001b[1;32m    492\u001b[0m         \u001b[0;32mfor\u001b[0m \u001b[0mx\u001b[0m \u001b[0;32min\u001b[0m \u001b[0mtqdm\u001b[0m\u001b[0;34m(\u001b[0m\u001b[0mdata\u001b[0m\u001b[0;34m)\u001b[0m\u001b[0;34m:\u001b[0m\u001b[0;34m\u001b[0m\u001b[0m\n\u001b[0;32m--> 493\u001b[0;31m             \u001b[0mself\u001b[0m\u001b[0;34m.\u001b[0m\u001b[0mforward\u001b[0m\u001b[0;34m(\u001b[0m\u001b[0mx\u001b[0m\u001b[0;34m)\u001b[0m\u001b[0;34m\u001b[0m\u001b[0m\n\u001b[0m\u001b[1;32m    494\u001b[0m             \u001b[0mself\u001b[0m\u001b[0;34m.\u001b[0m\u001b[0mlearn\u001b[0m\u001b[0;34m(\u001b[0m\u001b[0;34m)\u001b[0m\u001b[0;34m\u001b[0m\u001b[0m\n\u001b[1;32m    495\u001b[0m         \u001b[0mprint\u001b[0m \u001b[0;34m(\u001b[0m\u001b[0;34m\"CTNN Training CTNN is finished\"\u001b[0m\u001b[0;34m)\u001b[0m\u001b[0;34m\u001b[0m\u001b[0m\n",
      "\u001b[0;32m<ipython-input-44-74e8f097ff89>\u001b[0m in \u001b[0;36mforward\u001b[0;34m(self, x)\u001b[0m\n\u001b[1;32m    461\u001b[0m             \u001b[0;32mfor\u001b[0m \u001b[0mk\u001b[0m\u001b[0;34m,\u001b[0m \u001b[0mv\u001b[0m \u001b[0;32min\u001b[0m \u001b[0mself\u001b[0m\u001b[0;34m.\u001b[0m\u001b[0mmodel\u001b[0m\u001b[0;34m.\u001b[0m\u001b[0mitems\u001b[0m\u001b[0;34m(\u001b[0m\u001b[0;34m)\u001b[0m\u001b[0;34m:\u001b[0m\u001b[0;34m\u001b[0m\u001b[0m\n\u001b[1;32m    462\u001b[0m                 \u001b[0;32mif\u001b[0m \u001b[0;34m'GMP'\u001b[0m \u001b[0;32min\u001b[0m \u001b[0mk\u001b[0m\u001b[0;34m:\u001b[0m\u001b[0;34m\u001b[0m\u001b[0m\n\u001b[0;32m--> 463\u001b[0;31m                     \u001b[0mx\u001b[0m \u001b[0;34m=\u001b[0m \u001b[0mv\u001b[0m\u001b[0;34m(\u001b[0m\u001b[0mx\u001b[0m\u001b[0;34m,\u001b[0m \u001b[0mtraining\u001b[0m\u001b[0;34m=\u001b[0m\u001b[0;32mTrue\u001b[0m\u001b[0;34m)\u001b[0m\u001b[0;34m\u001b[0m\u001b[0m\n\u001b[0m\u001b[1;32m    464\u001b[0m                 \u001b[0;32melse\u001b[0m\u001b[0;34m:\u001b[0m\u001b[0;34m\u001b[0m\u001b[0m\n\u001b[1;32m    465\u001b[0m                     \u001b[0mx\u001b[0m \u001b[0;34m=\u001b[0m \u001b[0mv\u001b[0m\u001b[0;34m(\u001b[0m\u001b[0mx\u001b[0m\u001b[0;34m)\u001b[0m\u001b[0;34m\u001b[0m\u001b[0m\n",
      "\u001b[0;32m<ipython-input-44-74e8f097ff89>\u001b[0m in \u001b[0;36m__call__\u001b[0;34m(self, x, training)\u001b[0m\n\u001b[1;32m    319\u001b[0m \u001b[0;34m\u001b[0m\u001b[0m\n\u001b[1;32m    320\u001b[0m     \u001b[0;32mdef\u001b[0m \u001b[0m__call__\u001b[0m\u001b[0;34m(\u001b[0m\u001b[0mself\u001b[0m\u001b[0;34m,\u001b[0m \u001b[0mx\u001b[0m\u001b[0;34m,\u001b[0m \u001b[0mtraining\u001b[0m\u001b[0;34m)\u001b[0m\u001b[0;34m:\u001b[0m\u001b[0;34m\u001b[0m\u001b[0m\n\u001b[0;32m--> 321\u001b[0;31m         \u001b[0;32mreturn\u001b[0m \u001b[0mself\u001b[0m\u001b[0;34m.\u001b[0m\u001b[0mforward\u001b[0m\u001b[0;34m(\u001b[0m\u001b[0mx\u001b[0m\u001b[0;34m,\u001b[0m \u001b[0mtraining\u001b[0m\u001b[0;34m)\u001b[0m\u001b[0;34m\u001b[0m\u001b[0m\n\u001b[0m\u001b[1;32m    322\u001b[0m \u001b[0;34m\u001b[0m\u001b[0m\n\u001b[1;32m    323\u001b[0m     \u001b[0;32mdef\u001b[0m \u001b[0mclear_dw\u001b[0m\u001b[0;34m(\u001b[0m\u001b[0mself\u001b[0m\u001b[0;34m)\u001b[0m\u001b[0;34m:\u001b[0m\u001b[0;34m\u001b[0m\u001b[0m\n",
      "\u001b[0;32m<ipython-input-44-74e8f097ff89>\u001b[0m in \u001b[0;36mforward\u001b[0;34m(self, x, training)\u001b[0m\n\u001b[1;32m    400\u001b[0m                 \u001b[0;32mfor\u001b[0m \u001b[0mj\u001b[0m \u001b[0;32min\u001b[0m \u001b[0mrange\u001b[0m\u001b[0;34m(\u001b[0m\u001b[0mh\u001b[0m\u001b[0;34m,\u001b[0m \u001b[0mx\u001b[0m\u001b[0;34m.\u001b[0m\u001b[0mshape\u001b[0m\u001b[0;34m[\u001b[0m\u001b[0;36m1\u001b[0m\u001b[0;34m]\u001b[0m\u001b[0;34m-\u001b[0m\u001b[0mh\u001b[0m\u001b[0;34m,\u001b[0m \u001b[0mself\u001b[0m\u001b[0;34m.\u001b[0m\u001b[0mstride\u001b[0m\u001b[0;34m)\u001b[0m\u001b[0;34m:\u001b[0m\u001b[0;34m\u001b[0m\u001b[0m\n\u001b[1;32m    401\u001b[0m                     \u001b[0mwindow\u001b[0m \u001b[0;34m=\u001b[0m \u001b[0mx\u001b[0m\u001b[0;34m[\u001b[0m\u001b[0mi\u001b[0m\u001b[0;34m-\u001b[0m\u001b[0mw\u001b[0m\u001b[0;34m:\u001b[0m\u001b[0mi\u001b[0m\u001b[0;34m+\u001b[0m\u001b[0mw\u001b[0m\u001b[0;34m+\u001b[0m\u001b[0;36m1\u001b[0m\u001b[0;34m,\u001b[0m \u001b[0mj\u001b[0m\u001b[0;34m-\u001b[0m\u001b[0mh\u001b[0m\u001b[0;34m:\u001b[0m\u001b[0mj\u001b[0m\u001b[0;34m+\u001b[0m\u001b[0mh\u001b[0m\u001b[0;34m+\u001b[0m\u001b[0;36m1\u001b[0m\u001b[0;34m,\u001b[0m \u001b[0;34m:\u001b[0m\u001b[0;34m]\u001b[0m\u001b[0;34m\u001b[0m\u001b[0m\n\u001b[0;32m--> 402\u001b[0;31m                     \u001b[0mresult\u001b[0m\u001b[0;34m[\u001b[0m\u001b[0mint\u001b[0m\u001b[0;34m(\u001b[0m\u001b[0;34m(\u001b[0m\u001b[0mi\u001b[0m\u001b[0;34m-\u001b[0m\u001b[0mw\u001b[0m\u001b[0;34m)\u001b[0m\u001b[0;34m/\u001b[0m\u001b[0mself\u001b[0m\u001b[0;34m.\u001b[0m\u001b[0mstride\u001b[0m\u001b[0;34m)\u001b[0m\u001b[0;34m,\u001b[0m \u001b[0mint\u001b[0m\u001b[0;34m(\u001b[0m\u001b[0;34m(\u001b[0m\u001b[0mj\u001b[0m\u001b[0;34m-\u001b[0m\u001b[0mh\u001b[0m\u001b[0;34m)\u001b[0m\u001b[0;34m/\u001b[0m\u001b[0mself\u001b[0m\u001b[0;34m.\u001b[0m\u001b[0mstride\u001b[0m\u001b[0;34m)\u001b[0m\u001b[0;34m,\u001b[0m \u001b[0mk\u001b[0m\u001b[0;34m]\u001b[0m \u001b[0;34m=\u001b[0m \u001b[0mself\u001b[0m\u001b[0;34m.\u001b[0m\u001b[0m_conv\u001b[0m\u001b[0;34m(\u001b[0m\u001b[0mwindow\u001b[0m\u001b[0;34m.\u001b[0m\u001b[0mcopy\u001b[0m\u001b[0;34m(\u001b[0m\u001b[0;34m)\u001b[0m\u001b[0;34m,\u001b[0m \u001b[0mself\u001b[0m\u001b[0;34m.\u001b[0m\u001b[0mweights\u001b[0m\u001b[0;34m[\u001b[0m\u001b[0mk\u001b[0m\u001b[0;34m]\u001b[0m\u001b[0;34m,\u001b[0m \u001b[0mtraining\u001b[0m\u001b[0;34m)\u001b[0m\u001b[0;34m\u001b[0m\u001b[0m\n\u001b[0m\u001b[1;32m    403\u001b[0m         \u001b[0mself\u001b[0m\u001b[0;34m.\u001b[0m\u001b[0mpostsynaptic\u001b[0m \u001b[0;34m=\u001b[0m \u001b[0mself\u001b[0m\u001b[0;34m.\u001b[0m\u001b[0mIL\u001b[0m\u001b[0;34m(\u001b[0m\u001b[0mresult\u001b[0m\u001b[0;34m)\u001b[0m\u001b[0;34m\u001b[0m\u001b[0m\n\u001b[1;32m    404\u001b[0m         \u001b[0;32mreturn\u001b[0m \u001b[0mself\u001b[0m\u001b[0;34m.\u001b[0m\u001b[0mpostsynaptic\u001b[0m \u001b[0;32mif\u001b[0m \u001b[0mtraining\u001b[0m \u001b[0;32melse\u001b[0m \u001b[0mself\u001b[0m\u001b[0;34m.\u001b[0m\u001b[0m_pool\u001b[0m\u001b[0;34m(\u001b[0m\u001b[0mresult\u001b[0m\u001b[0;34m)\u001b[0m\u001b[0;34m\u001b[0m\u001b[0m\n",
      "\u001b[0;32m<ipython-input-44-74e8f097ff89>\u001b[0m in \u001b[0;36m_conv\u001b[0;34m(self, window, weights, training, potentials)\u001b[0m\n\u001b[1;32m    364\u001b[0m         \u001b[0mx\u001b[0m \u001b[0;34m=\u001b[0m \u001b[0mnp\u001b[0m\u001b[0;34m.\u001b[0m\u001b[0mtranspose\u001b[0m\u001b[0;34m(\u001b[0m\u001b[0mwindow\u001b[0m\u001b[0;34m,\u001b[0m \u001b[0;34m(\u001b[0m\u001b[0;36m2\u001b[0m\u001b[0;34m,\u001b[0m\u001b[0;36m0\u001b[0m\u001b[0;34m,\u001b[0m\u001b[0;36m1\u001b[0m\u001b[0;34m)\u001b[0m\u001b[0;34m)\u001b[0m \u001b[0;31m# transpose to channel first\u001b[0m\u001b[0;34m\u001b[0m\u001b[0m\n\u001b[1;32m    365\u001b[0m         \u001b[0;32mfor\u001b[0m \u001b[0mk\u001b[0m \u001b[0;32min\u001b[0m \u001b[0mrange\u001b[0m\u001b[0;34m(\u001b[0m\u001b[0mx\u001b[0m\u001b[0;34m.\u001b[0m\u001b[0mshape\u001b[0m\u001b[0;34m[\u001b[0m\u001b[0;36m0\u001b[0m\u001b[0;34m]\u001b[0m\u001b[0;34m)\u001b[0m\u001b[0;34m:\u001b[0m\u001b[0;34m\u001b[0m\u001b[0m\n\u001b[0;32m--> 366\u001b[0;31m             \u001b[0mchannel\u001b[0m \u001b[0;34m=\u001b[0m \u001b[0mself\u001b[0m\u001b[0;34m.\u001b[0m\u001b[0mrf\u001b[0m \u001b[0;34m*\u001b[0m \u001b[0mx\u001b[0m\u001b[0;34m[\u001b[0m\u001b[0mk\u001b[0m\u001b[0;34m,\u001b[0m \u001b[0;34m:\u001b[0m\u001b[0;34m,\u001b[0m \u001b[0;34m:\u001b[0m\u001b[0;34m]\u001b[0m\u001b[0;34m\u001b[0m\u001b[0m\n\u001b[0m\u001b[1;32m    367\u001b[0m             \u001b[0;32mfor\u001b[0m \u001b[0mi\u001b[0m \u001b[0;32min\u001b[0m \u001b[0mrange\u001b[0m\u001b[0;34m(\u001b[0m\u001b[0mchannel\u001b[0m\u001b[0;34m.\u001b[0m\u001b[0mshape\u001b[0m\u001b[0;34m[\u001b[0m\u001b[0;36m0\u001b[0m\u001b[0;34m]\u001b[0m\u001b[0;34m)\u001b[0m\u001b[0;34m:\u001b[0m\u001b[0;34m\u001b[0m\u001b[0m\n\u001b[1;32m    368\u001b[0m                 \u001b[0;32mfor\u001b[0m \u001b[0mj\u001b[0m \u001b[0;32min\u001b[0m \u001b[0mrange\u001b[0m\u001b[0;34m(\u001b[0m\u001b[0mchannel\u001b[0m\u001b[0;34m.\u001b[0m\u001b[0mshape\u001b[0m\u001b[0;34m[\u001b[0m\u001b[0;36m1\u001b[0m\u001b[0;34m]\u001b[0m\u001b[0;34m)\u001b[0m\u001b[0;34m:\u001b[0m\u001b[0;34m\u001b[0m\u001b[0m\n",
      "\u001b[0;31mKeyboardInterrupt\u001b[0m: "
     ]
    }
   ],
   "source": [
    "if __name__ == \"__main__\":\n",
    "    Net = MNISTmodel()\n",
    "    mnist = fetch_mldata('MNIST original')\n",
    "    N, _ = mnist.data.shape\n",
    "\n",
    "    # Reshape the data to be square\n",
    "    mnist.square_data = mnist.data.reshape(N,28,28)\n",
    "    X_train, X_test, y_train, y_test = train_test_split(mnist.square_data, \n",
    "                                                        mnist.target, \n",
    "                                                        test_size=0.3, \n",
    "                                                        random_state=42)\n",
    "    Net.train(X_train, y_train)\n",
    "    Net.test(X_test, y_test)\n",
    "\n"
   ]
  },
  {
   "cell_type": "code",
   "execution_count": 20,
   "metadata": {},
   "outputs": [],
   "source": [
    "mnist = fetch_mldata('MNIST original')\n",
    "N, _ = mnist.data.shape\n",
    "\n",
    "# Reshape the data to be square\n",
    "mnist.square_data = mnist.data.reshape(N,28,28)\n",
    "layer1 = DoG(layer_name='DoG', threshold=None, mode='Full', s1=1, s2=2)\n",
    "layer2 = Conv(layer_name='conv1', threshold=2, mode='Full', size=(3,2,3,3), stride=1, pad=2)\n",
    "layer3 = MaxPool(layer_name='conv1_pool', size=3, stride=4)\n",
    "layer4 = GlobalMaxPool(layer_name='GMP', mode='Full', size=(2,3,5,5), threshold=2, stride=1, pad=1)"
   ]
  },
  {
   "cell_type": "code",
   "execution_count": 15,
   "metadata": {},
   "outputs": [],
   "source": [
    "def Model():\n",
    "    layer = []\n",
    "    layer.append(DoG(layer_name='DoG', threshold=None, mode='Full', s1=1, s2=2))\n",
    "    layer.append(Conv(layer_name='conv1', threshold=19, mode='Full', size=(7,2,5,5), stride=1, pad=1))\n",
    "    layer.append(LI(layer_name='conv1_LI'))\n",
    "    layer.append(MaxPool(layer_name='conv1_pool', size=3, stride=2))\n",
    "    \n",
    "    layer.append(Conv(layer_name='conv2', threshold=19, mode='Full', size=(16,7,3,3), stride=1, pad=1))\n",
    "    layer.append(LI(layer_name='conv2_LI'))\n",
    "    layer.append(MaxPool(layer_name='conv2_pool', size=3, stride=2))\n",
    "    \n",
    "    layer.append(Conv(layer_name='conv3', threshold=19, mode='Full', size=(32,16,3,3), stride=1, pad=1))\n",
    "    \n",
    "    model = {layer[i].layer_name:layer[i] for i in range(len(layer))}\n",
    "    return model\n",
    "        \n",
    "    "
   ]
  },
  {
   "cell_type": "code",
   "execution_count": 16,
   "metadata": {},
   "outputs": [],
   "source": [
    "model = Model()"
   ]
  },
  {
   "cell_type": "code",
   "execution_count": 17,
   "metadata": {},
   "outputs": [
    {
     "data": {
      "text/plain": [
       "(7, 2, 5, 5)"
      ]
     },
     "execution_count": 17,
     "metadata": {},
     "output_type": "execute_result"
    }
   ],
   "source": [
    "model['conv1'].weights.shape"
   ]
  },
  {
   "cell_type": "code",
   "execution_count": 21,
   "metadata": {},
   "outputs": [
    {
     "data": {
      "image/png": "[encoded data removed]",
      "text/plain": [
       "<Figure size 432x288 with 2 Axes>"
      ]
     },
     "metadata": {
      "needs_background": "light"
     },
     "output_type": "display_data"
    }
   ],
   "source": [
    "result = layer1(mnist.square_data[0])\n",
    "\n",
    "plt.imshow(result[:,:,0])\n",
    "plt.colorbar()\n",
    "plt.show()"
   ]
  },
  {
   "cell_type": "code",
   "execution_count": 22,
   "metadata": {},
   "outputs": [
    {
     "data": {
      "text/plain": [
       "(28, 28, 2)"
      ]
     },
     "execution_count": 22,
     "metadata": {},
     "output_type": "execute_result"
    }
   ],
   "source": [
    "result.shape"
   ]
  },
  {
   "cell_type": "code",
   "execution_count": 23,
   "metadata": {},
   "outputs": [],
   "source": [
    "result2 = layer2(result)"
   ]
  },
  {
   "cell_type": "code",
   "execution_count": 62,
   "metadata": {},
   "outputs": [],
   "source": [
    "result5 = layer5(result, training=False)"
   ]
  },
  {
   "cell_type": "code",
   "execution_count": 63,
   "metadata": {},
   "outputs": [
    {
     "data": {
      "text/plain": [
       "array([12.79320088, 12.95217106])"
      ]
     },
     "execution_count": 63,
     "metadata": {},
     "output_type": "execute_result"
    }
   ],
   "source": [
    "result5"
   ]
  },
  {
   "cell_type": "code",
   "execution_count": 93,
   "metadata": {},
   "outputs": [
    {
     "data": {
      "text/plain": [
       "(28, 28, 3)"
      ]
     },
     "execution_count": 93,
     "metadata": {},
     "output_type": "execute_result"
    }
   ],
   "source": [
    "result2.shape"
   ]
  },
  {
   "cell_type": "code",
   "execution_count": 24,
   "metadata": {},
   "outputs": [
    {
     "data": {
      "image/png": "[encoded data removed]",
      "text/plain": [
       "<Figure size 432x288 with 2 Axes>"
      ]
     },
     "metadata": {
      "needs_background": "light"
     },
     "output_type": "display_data"
    }
   ],
   "source": [
    "plt.imshow(result2[:,:,2])\n",
    "plt.colorbar()\n",
    "plt.show()"
   ]
  },
  {
   "cell_type": "code",
   "execution_count": 23,
   "metadata": {},
   "outputs": [
    {
     "data": {
      "image/png": "[encoded data removed]",
      "text/plain": [
       "<Figure size 432x288 with 2 Axes>"
      ]
     },
     "metadata": {
      "needs_background": "light"
     },
     "output_type": "display_data"
    }
   ],
   "source": [
    "result3 = layer3(result2)\n",
    "plt.imshow(result3[:,:,])\n",
    "plt.colorbar()\n",
    "plt.show()"
   ]
  },
  {
   "cell_type": "code",
   "execution_count": 128,
   "metadata": {},
   "outputs": [
    {
     "name": "stdout",
     "output_type": "stream",
     "text": [
      "(7, 7, 3)\n"
     ]
    }
   ],
   "source": [
    "result4 = layer3(result2)"
   ]
  },
  {
   "cell_type": "code",
   "execution_count": 130,
   "metadata": {},
   "outputs": [
    {
     "data": {
      "image/png": "[encoded data removed]",
      "text/plain": [
       "<Figure size 432x288 with 2 Axes>"
      ]
     },
     "metadata": {
      "needs_background": "light"
     },
     "output_type": "display_data"
    }
   ],
   "source": [
    "plt.imshow(result4[:,:,2])\n",
    "plt.colorbar()\n",
    "plt.show()"
   ]
  },
  {
   "cell_type": "code",
   "execution_count": 25,
   "metadata": {},
   "outputs": [],
   "source": [
    "layer2.stdp_update()"
   ]
  },
  {
   "cell_type": "code",
   "execution_count": null,
   "metadata": {},
   "outputs": [],
   "source": []
  },
  {
   "cell_type": "code",
   "execution_count": 768,
   "metadata": {},
   "outputs": [
    {
     "name": "stdout",
     "output_type": "stream",
     "text": [
      "your array:  [[[4 2]\n",
      "  [0 3]]\n",
      "\n",
      " [[1 0]\n",
      "  [4 2]]\n",
      "\n",
      " [[4 3]\n",
      "  [2 1]]]\n",
      "non-zero minimum:  1\n",
      "index of non-zero minimum:  4\n"
     ]
    }
   ],
   "source": [
    "import numpy as np\n",
    "import numpy.ma as ma\n",
    "a = np.random.randint(low=0, high=5, size=(3,2,2))\n",
    "\n",
    "print (\"your array: \",a)\n",
    "\n",
    "# the non-zero minimum value\n",
    "minval = np.min(ma.masked_where(a==0, a)) \n",
    "print (\"non-zero minimum: \",minval)\n",
    "\n",
    "# the position/index of non-zero  minimum value in the array\n",
    "minvalpos = np.argmin(ma.masked_where(a==0, a))  \n",
    "print (\"index of non-zero minimum: \", minvalpos)"
   ]
  },
  {
   "cell_type": "code",
   "execution_count": 472,
   "metadata": {},
   "outputs": [
    {
     "name": "stdout",
     "output_type": "stream",
     "text": [
      "[[4 0]\n",
      " [0 1]]\n",
      "[1] [1]\n",
      "0\n",
      "1 1\n"
     ]
    }
   ],
   "source": [
    "a = np.random.randint(low=0, high=5, size=(2,2))\n",
    "minval = np.min(a[np.nonzero(a)])\n",
    "if minval:\n",
    "    xs, ys = np.where(a == minval)\n",
    "    stdp_index = np.random.choice(len(xs))\n",
    "    stdp_x = xs[stdp_index]\n",
    "    stdp_y = ys[stdp_index]\n",
    "    "
   ]
  },
  {
   "cell_type": "code",
   "execution_count": 451,
   "metadata": {},
   "outputs": [],
   "source": [
    "minval = np.min(a[np.nonzero(a)])"
   ]
  },
  {
   "cell_type": "code",
   "execution_count": 443,
   "metadata": {},
   "outputs": [
    {
     "data": {
      "text/plain": [
       "2"
      ]
     },
     "execution_count": 443,
     "metadata": {},
     "output_type": "execute_result"
    }
   ],
   "source": [
    "minval"
   ]
  },
  {
   "cell_type": "code",
   "execution_count": 444,
   "metadata": {},
   "outputs": [
    {
     "data": {
      "text/plain": [
       "(array([0, 1]), array([1, 0]))"
      ]
     },
     "execution_count": 444,
     "metadata": {},
     "output_type": "execute_result"
    }
   ],
   "source": [
    "np.where(a == minval)"
   ]
  },
  {
   "cell_type": "code",
   "execution_count": 476,
   "metadata": {},
   "outputs": [
    {
     "name": "stdout",
     "output_type": "stream",
     "text": [
      "deque([(2, 2), (3, 3), (4, 4)])\n"
     ]
    }
   ],
   "source": [
    "from collections import deque\n",
    "q = deque()\n",
    "for i in range(5):\n",
    "    if len(q) < 3:\n",
    "        q.append((i, i))\n",
    "    else:\n",
    "        q.popleft()\n",
    "        q.append((i,i))\n",
    "print (q)\n",
    "    "
   ]
  },
  {
   "cell_type": "code",
   "execution_count": 485,
   "metadata": {},
   "outputs": [],
   "source": [
    "rf = np.zeros((5,2))\n",
    "\n",
    "A = (0.8+np.random.randn(5,2) * 0.05)"
   ]
  },
  {
   "cell_type": "code",
   "execution_count": 86,
   "metadata": {},
   "outputs": [],
   "source": [
    "def rconv(size):\n",
    "    result = np.zeros(size)\n",
    "    mid = int(size/2)\n",
    "    left, right = mid-1, mid+1\n",
    "    i = 1\n",
    "    while left >=0 and right <=size-1:\n",
    "        result[left] = -i\n",
    "        result[right] = i\n",
    "        left -= 1\n",
    "        right += 1\n",
    "        i += 1\n",
    "    return result.astype('int')"
   ]
  },
  {
   "cell_type": "code",
   "execution_count": 87,
   "metadata": {},
   "outputs": [
    {
     "data": {
      "text/plain": [
       "array([-2, -1,  0,  1,  2])"
      ]
     },
     "execution_count": 87,
     "metadata": {},
     "output_type": "execute_result"
    }
   ],
   "source": [
    "rconv(5)"
   ]
  },
  {
   "cell_type": "code",
   "execution_count": null,
   "metadata": {},
   "outputs": [],
   "source": []
  }
 ],
 "metadata": {
  "kernelspec": {
   "display_name": "Python 3",
   "language": "python",
   "name": "python3"
  },
  "language_info": {
   "codemirror_mode": {
    "name": "ipython",
    "version": 3
   },
   "file_extension": ".py",
   "mimetype": "text/x-python",
   "name": "python",
   "nbconvert_exporter": "python",
   "pygments_lexer": "ipython3",
   "version": "3.6.5"
  }
 },
 "nbformat": 4,
 "nbformat_minor": 2
}
